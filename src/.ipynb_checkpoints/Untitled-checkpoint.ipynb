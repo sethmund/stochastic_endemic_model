{
 "cells": [
  {
   "cell_type": "code",
   "execution_count": 3,
   "id": "62a09afc-be34-46d9-949d-0e519beb9b30",
   "metadata": {},
   "outputs": [
    {
     "ename": "SyntaxError",
     "evalue": "invalid syntax (Temp/ipykernel_22852/3655986859.py, line 7)",
     "output_type": "error",
     "traceback": [
      "\u001b[1;36m  File \u001b[1;32m\"C:\\Users\\varun\\AppData\\Local\\Temp/ipykernel_22852/3655986859.py\"\u001b[1;36m, line \u001b[1;32m7\u001b[0m\n\u001b[1;33m    valueX1 = \"Xsi1\"\u001b[0m\n\u001b[1;37m    ^\u001b[0m\n\u001b[1;31mSyntaxError\u001b[0m\u001b[1;31m:\u001b[0m invalid syntax\n"
     ]
    }
   ],
   "source": [
    "import seaborn as sns \n",
    "import pandas as pd\n",
    "import matplotlib.pyplot as plt\n",
    "import numpy as np\n",
    "print(\"starting!\")\n",
    "run_data = pd.read_csv(\"run_0_00.csv\")\n",
    "valueX1 = \"Xsi1\"\n",
    "just_infec = run_data.query(\"vartype == @valueX1\")\n",
    "sns.lineplot(data=just_infec,x=\"t\",y=\"value\")"
   ]
  }
 ],
 "metadata": {
  "kernelspec": {
   "display_name": "Python 3 (ipykernel)",
   "language": "python",
   "name": "python3"
  },
  "language_info": {
   "codemirror_mode": {
    "name": "ipython",
    "version": 3
   },
   "file_extension": ".py",
   "mimetype": "text/x-python",
   "name": "python",
   "nbconvert_exporter": "python",
   "pygments_lexer": "ipython3",
   "version": "3.8.12"
  }
 },
 "nbformat": 4,
 "nbformat_minor": 5
}
